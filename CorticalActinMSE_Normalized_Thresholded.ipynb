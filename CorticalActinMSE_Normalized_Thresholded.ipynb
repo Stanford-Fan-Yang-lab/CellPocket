{
 "cells": [
  {
   "cell_type": "markdown",
   "id": "d091bc4b-e205-44cd-8c27-ddf57fd51207",
   "metadata": {},
   "source": [
    "# Cortical Actin MSE Analysis- Normalized to Cortical Actin Area"
   ]
  },
  {
   "cell_type": "code",
   "execution_count": 1,
   "id": "58363c55-2421-4355-a51d-bec1268efbb2",
   "metadata": {},
   "outputs": [],
   "source": [
    "# Imports\n",
    "import cv2\n",
    "import numpy as np\n",
    "import os\n",
    "import pandas as pd \n",
    "from itertools import product"
   ]
  },
  {
   "cell_type": "code",
   "execution_count": 2,
   "id": "e089dc2d-f212-4fa4-9285-acb3b80fddc9",
   "metadata": {},
   "outputs": [],
   "source": [
    "# MSE Function\n",
    "\n",
    "def computeMSE(folder_path, video_path, save_frames=True,\n",
    "               frames_output=\"frames_output\", masks_output=\"masks_output\"):\n",
    "\n",
    "    # Create output folders\n",
    "    os.makedirs(os.path.join(folder_path, frames_output), exist_ok=True) #Frames output = cortical actin\n",
    "    os.makedirs(os.path.join(folder_path, masks_output), exist_ok=True) #masks_output = cortical actin used for normalization\n",
    "\n",
    "    cap = cv2.VideoCapture(os.path.join(folder_path, video_path))\n",
    "    ret, prev_frame = cap.read()\n",
    "    if not ret:\n",
    "        print(f\"Error reading {video_path}\")\n",
    "        return None\n",
    "\n",
    "    #Make videos grayscale\n",
    "    prev_gray = cv2.cvtColor(prev_frame, cv2.COLOR_BGR2GRAY)\n",
    "\n",
    "    #Initialize vectors to store values\n",
    "    raw_mse_vals = []\n",
    "    cortical_mse_vals = []\n",
    "    normalized_cortical_mse_vals = []\n",
    "    cortical_area_vals = []\n",
    "\n",
    "    frame_idx = 0\n",
    "\n",
    "    while True:\n",
    "        ret, frame = cap.read()\n",
    "        if not ret:\n",
    "            break\n",
    "\n",
    "        gray = cv2.cvtColor(frame, cv2.COLOR_BGR2GRAY)\n",
    "\n",
    "        # Threshold to get cell mask- can change threshold value (50 here) to increase or decrease thresholding\n",
    "        _, cell_mask = cv2.threshold(gray, 50, 1, cv2.THRESH_BINARY)\n",
    "\n",
    "        # Create cortical mask via erosion\n",
    "        erosion_size = 10\n",
    "        kernel = np.ones((erosion_size, erosion_size), np.uint8)\n",
    "        eroded = cv2.erode(cell_mask, kernel, iterations=1)\n",
    "        cortical_mask = cell_mask - eroded\n",
    "\n",
    "        # Calculate Mean Squared Error\n",
    "        diff_raw = (gray.astype(\"float\") - prev_gray.astype(\"float\")) ** 2\n",
    "        diff_cortical = diff_raw * cortical_mask\n",
    "\n",
    "        raw_mse = diff_raw.sum() #Raw values for MSE\n",
    "        cortical_mse = diff_cortical.sum() #Cortical Actin MSE\n",
    "        normalized_cortical_mse = diff_cortical.sum() / (cortical_mask.sum()) #Cortical Actin MSE normalized to the area of cortical actin\n",
    "\n",
    "        raw_mse_vals.append(raw_mse)\n",
    "        cortical_mse_vals.append(cortical_mse)\n",
    "        normalized_cortical_mse_vals.append(normalized_cortical_mse)\n",
    "        cortical_area_vals.append(cortical_mask.sum())\n",
    "\n",
    "        # Saves images so you can double check thresholding/erosion\n",
    "        if save_frames and frame_idx % 20 == 0:\n",
    "            # Raw & cortical images\n",
    "            cv2.imwrite(os.path.join(folder_path, frames_output, f\"{video_path}_frame{frame_idx}_raw.png\"), gray)\n",
    "            cv2.imwrite(os.path.join(folder_path, frames_output, f\"{video_path}_frame{frame_idx}_cortical.png\"), (cortical_mask*255).astype(\"uint8\"))\n",
    "            # Whole-cell mask used for area normalization\n",
    "            cv2.imwrite(os.path.join(folder_path, masks_output, f\"{video_path}_frame{frame_idx}_cellmask.png\"), (cell_mask*255).astype(\"uint8\"))\n",
    "\n",
    "        prev_gray = gray\n",
    "        frame_idx += 1\n",
    "\n",
    "    cap.release()\n",
    "\n",
    "    return {\n",
    "        \"Video\": video_path,\n",
    "        \"Cortical_Area\": np.mean(cortical_area_vals),\n",
    "        \"Raw_MSE\": np.mean(raw_mse_vals),\n",
    "        \"Cortical_MSE\": np.mean(cortical_mse_vals),\n",
    "        \"Normalized_Cortical_MSE\": np.mean(normalized_cortical_mse_vals)\n",
    "    }\n",
    "\n",
    "#Saves results\n",
    "def main(folder_path, output_csv=\"MSE_results.csv\",\n",
    "         frames_output=\"frames_output\", masks_output=\"masks_output\"):\n",
    "    results = []\n",
    "    videos = [f for f in os.listdir(folder_path) if f.endswith(\".avi\")]\n",
    "    videos.sort()\n",
    "\n",
    "    for video in videos:\n",
    "        res = computeMSE(folder_path, video, save_frames=True,\n",
    "                         frames_output=frames_output, masks_output=masks_output)\n",
    "        if res is not None:\n",
    "            results.append(res)\n",
    "\n",
    "    df = pd.DataFrame(results)\n",
    "    df.to_csv(os.path.join(folder_path, output_csv), index=False)\n",
    "    return df"
   ]
  },
  {
   "cell_type": "markdown",
   "id": "caac2f78-2796-4a51-b1f4-82f2d66f7523",
   "metadata": {},
   "source": [
    "# Computations"
   ]
  },
  {
   "cell_type": "code",
   "execution_count": 3,
   "id": "e1281dfa-7e6a-47a9-a87d-d2215879b446",
   "metadata": {},
   "outputs": [],
   "source": [
    "#Quantification for Fast Gels\n",
    "folder_path = ''\n",
    "MSE = main(folder_path)"
   ]
  },
  {
   "cell_type": "code",
   "execution_count": 4,
   "id": "c1e7ec17-0df9-4be1-af1b-bc0cd0b6b8c7",
   "metadata": {},
   "outputs": [
    {
     "name": "stdout",
     "output_type": "stream",
     "text": [
      "Fast- Mean Squared Error (RAW, Cortical, Normalized Cortical\n",
      "            Video  Cortical_Area     Raw_MSE  Cortical_MSE  \\\n",
      "0  fast_d1_01.avi         2680.0  19010165.0     4548848.8   \n",
      "1  fast_d1_02.avi         1709.8  15446464.8     3408117.4   \n",
      "2  fast_d1_03.avi         1103.0   9909554.0     2460972.0   \n",
      "3  fast_d1_04.avi         2465.8  13146833.6     4078594.0   \n",
      "4  fast_d1_05.avi         1587.8  17005007.6     3267512.6   \n",
      "5  fast_d1_06.avi         4043.8  38563589.8     9476472.8   \n",
      "6  fast_d1_07.avi         1675.6  10668469.8     2413357.8   \n",
      "7  fast_d1_08.avi         1761.2  10832664.8     2872097.4   \n",
      "8  fast_d1_09.avi         2559.4  15976851.8     5241602.8   \n",
      "9  fast_d1_10.avi         3248.0  14916973.6     4980976.6   \n",
      "\n",
      "   Normalized_Cortical_MSE  \n",
      "0              1690.977147  \n",
      "1              1990.501470  \n",
      "2              2219.496973  \n",
      "3              1633.788808  \n",
      "4              2062.214547  \n",
      "5              2358.856902  \n",
      "6              1432.108779  \n",
      "7              1560.023004  \n",
      "8              2018.614978  \n",
      "9              1522.480437  \n",
      "Mean: Cortical_Area              2.283440e+03\n",
      "Raw_MSE                    1.654766e+07\n",
      "Cortical_MSE               4.274855e+06\n",
      "Normalized_Cortical_MSE    1.848906e+03\n",
      "dtype: float64\n"
     ]
    },
    {
     "name": "stderr",
     "output_type": "stream",
     "text": [
      "/Users/Callie/anaconda3/lib/python3.11/site-packages/numpy/core/fromnumeric.py:3462: FutureWarning: In a future version, DataFrame.mean(axis=None) will return a scalar mean over the entire DataFrame. To retain the old behavior, use 'frame.mean(axis=0)' or just 'frame.mean()'\n",
      "  return mean(axis=axis, dtype=dtype, out=out, **kwargs)\n",
      "/Users/Callie/anaconda3/lib/python3.11/site-packages/numpy/core/fromnumeric.py:3462: FutureWarning: The default value of numeric_only in DataFrame.mean is deprecated. In a future version, it will default to False. In addition, specifying 'numeric_only=None' is deprecated. Select only valid columns or specify the value of numeric_only to silence this warning.\n",
      "  return mean(axis=axis, dtype=dtype, out=out, **kwargs)\n"
     ]
    }
   ],
   "source": [
    "# See Results for Fast Gels\n",
    "print(\"Fast- Mean Squared Error (RAW, Cortical, Normalized Cortical\")\n",
    "print(MSE)\n",
    "print(\"Mean: \" + str(np.mean(MSE)))"
   ]
  },
  {
   "cell_type": "code",
   "execution_count": 5,
   "id": "17968c51-9017-42db-8d93-5b0f0bd2b52e",
   "metadata": {},
   "outputs": [],
   "source": [
    "#Quantification for SG Gels\n",
    "folder_path = ''\n",
    "MSE = main(folder_path)"
   ]
  },
  {
   "cell_type": "code",
   "execution_count": 6,
   "id": "63c8038a-c262-42f4-8c57-fc9bbf0868d5",
   "metadata": {},
   "outputs": [
    {
     "name": "stdout",
     "output_type": "stream",
     "text": [
      "SG- Mean Squared Error (RAW, Cortical, Normalized Cortical\n",
      "                Video  Cortical_Area     Raw_MSE  Cortical_MSE  \\\n",
      "0        sg_d1_01.avi         1366.4  10501129.8     2541304.8   \n",
      "1  sg_d1_010_5.08.avi         2495.2  15920346.0     4312672.6   \n",
      "2        sg_d1_02.avi         1326.6   8789948.8     1867928.4   \n",
      "3        sg_d1_03.avi         1456.6  13314372.4     3134086.8   \n",
      "4        sg_d1_04.avi         1039.6   7993804.6     1470107.4   \n",
      "5        sg_d1_05.avi          574.6   6807317.0     1087359.0   \n",
      "6        sg_d1_06.avi         1116.0   8973606.2     1755768.2   \n",
      "7        sg_d1_07.avi         1653.8   8030078.6     1729315.0   \n",
      "8   sg_d1_08_5.08.avi         1394.4   9358540.2     2288640.4   \n",
      "9   sg_d1_09_5.08.avi         2483.8   9852183.2     2594635.8   \n",
      "\n",
      "   Normalized_Cortical_MSE  \n",
      "0              1854.666174  \n",
      "1              1722.653164  \n",
      "2              1406.645075  \n",
      "3              2153.504674  \n",
      "4              1419.681885  \n",
      "5              1863.996667  \n",
      "6              1599.887687  \n",
      "7              1047.083219  \n",
      "8              1637.905925  \n",
      "9              1033.471969  \n",
      "Mean: Cortical_Area              1.490700e+03\n",
      "Raw_MSE                    9.954133e+06\n",
      "Cortical_MSE               2.278182e+06\n",
      "Normalized_Cortical_MSE    1.573950e+03\n",
      "dtype: float64\n"
     ]
    },
    {
     "name": "stderr",
     "output_type": "stream",
     "text": [
      "/Users/Callie/anaconda3/lib/python3.11/site-packages/numpy/core/fromnumeric.py:3462: FutureWarning: In a future version, DataFrame.mean(axis=None) will return a scalar mean over the entire DataFrame. To retain the old behavior, use 'frame.mean(axis=0)' or just 'frame.mean()'\n",
      "  return mean(axis=axis, dtype=dtype, out=out, **kwargs)\n",
      "/Users/Callie/anaconda3/lib/python3.11/site-packages/numpy/core/fromnumeric.py:3462: FutureWarning: The default value of numeric_only in DataFrame.mean is deprecated. In a future version, it will default to False. In addition, specifying 'numeric_only=None' is deprecated. Select only valid columns or specify the value of numeric_only to silence this warning.\n",
      "  return mean(axis=axis, dtype=dtype, out=out, **kwargs)\n"
     ]
    }
   ],
   "source": [
    "# See Results for SG\n",
    "print(\"SG- Mean Squared Error (RAW, Cortical, Normalized Cortical\")\n",
    "print(MSE)\n",
    "print(\"Mean: \" + str(np.mean(MSE)))"
   ]
  },
  {
   "cell_type": "code",
   "execution_count": 7,
   "id": "8f6d02d0-2f7e-48dd-a2bc-ce1f640f0aa6",
   "metadata": {},
   "outputs": [],
   "source": [
    "#Quantificaiton for Nuclei\n",
    "folder_path = ''\n",
    "MSE = main(folder_path)"
   ]
  },
  {
   "cell_type": "code",
   "execution_count": null,
   "id": "e5c681e6-8ba4-4e3a-96bb-b195db797816",
   "metadata": {},
   "outputs": [],
   "source": []
  }
 ],
 "metadata": {
  "kernelspec": {
   "display_name": "Python [conda env:base] *",
   "language": "python",
   "name": "conda-base-py"
  },
  "language_info": {
   "codemirror_mode": {
    "name": "ipython",
    "version": 3
   },
   "file_extension": ".py",
   "mimetype": "text/x-python",
   "name": "python",
   "nbconvert_exporter": "python",
   "pygments_lexer": "ipython3",
   "version": "3.11.3"
  }
 },
 "nbformat": 4,
 "nbformat_minor": 5
}
